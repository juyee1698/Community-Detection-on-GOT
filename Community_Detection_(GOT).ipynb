{
  "nbformat": 4,
  "nbformat_minor": 0,
  "metadata": {
    "colab": {
      "name": "Community Detection (GOT).ipynb",
      "provenance": []
    },
    "kernelspec": {
      "name": "python3",
      "display_name": "Python 3"
    },
    "accelerator": "GPU"
  },
  "cells": [
    {
      "cell_type": "code",
      "metadata": {
        "id": "nhfB-3eguI7s",
        "colab_type": "code",
        "colab": {
          "base_uri": "https://localhost:8080/",
          "height": 84
        },
        "outputId": "da2f00ac-cdfb-4aff-a872-9a3a6851f41e"
      },
      "source": [
        "!pip3 install findspark"
      ],
      "execution_count": 1,
      "outputs": [
        {
          "output_type": "stream",
          "text": [
            "Collecting findspark\n",
            "  Downloading https://files.pythonhosted.org/packages/73/8d/d2e876e358be7ee77f6f8c3dbb5b1728a268939ea6438ca0b774a6b5080a/findspark-1.4.1-py2.py3-none-any.whl\n",
            "Installing collected packages: findspark\n",
            "Successfully installed findspark-1.4.1\n"
          ],
          "name": "stdout"
        }
      ]
    },
    {
      "cell_type": "code",
      "metadata": {
        "id": "WOY0u0GFuabe",
        "colab_type": "code",
        "colab": {
          "base_uri": "https://localhost:8080/",
          "height": 50
        },
        "outputId": "afae3796-4705-4417-8f8b-add8675aeec2"
      },
      "source": [
        "!pip3 install networkx"
      ],
      "execution_count": 2,
      "outputs": [
        {
          "output_type": "stream",
          "text": [
            "Requirement already satisfied: networkx in /usr/local/lib/python3.6/dist-packages (2.4)\n",
            "Requirement already satisfied: decorator>=4.3.0 in /usr/local/lib/python3.6/dist-packages (from networkx) (4.4.2)\n"
          ],
          "name": "stdout"
        }
      ]
    },
    {
      "cell_type": "code",
      "metadata": {
        "id": "2dvGjtThuexn",
        "colab_type": "code",
        "colab": {}
      },
      "source": [
        "!apt-get install openjdk-8-jdk-headless -qq > /dev/null\n",
        "!wget -q https://www-us.apache.org/dist/spark/spark-2.3.4/spark-2.3.4-bin-hadoop2.7.tgz\n",
        "!tar xf spark-2.3.4-bin-hadoop2.7.tgz"
      ],
      "execution_count": 0,
      "outputs": []
    },
    {
      "cell_type": "code",
      "metadata": {
        "id": "Fr_t9l8NujxO",
        "colab_type": "code",
        "colab": {}
      },
      "source": [
        "import os\n",
        "os.environ[\"JAVA_HOME\"] = \"/usr/lib/jvm/java-8-openjdk-amd64\"\n",
        "os.environ[\"SPARK_HOME\"] = \"/content/spark-2.3.4-bin-hadoop2.7\""
      ],
      "execution_count": 0,
      "outputs": []
    },
    {
      "cell_type": "code",
      "metadata": {
        "id": "S_Xg72cGumcx",
        "colab_type": "code",
        "colab": {}
      },
      "source": [
        "import findspark\n",
        "findspark.init('')\n",
        "\n",
        "import pyspark\n",
        "import random"
      ],
      "execution_count": 0,
      "outputs": []
    },
    {
      "cell_type": "code",
      "metadata": {
        "id": "MVFFcvSKu0DJ",
        "colab_type": "code",
        "colab": {}
      },
      "source": [
        "import networkx as nx\n",
        "import pandas as pd\n",
        "import sys\n",
        "import time\n",
        "from networkx.algorithms.clique import find_cliques"
      ],
      "execution_count": 0,
      "outputs": []
    },
    {
      "cell_type": "code",
      "metadata": {
        "id": "izTfhK8Gu6La",
        "colab_type": "code",
        "colab": {}
      },
      "source": [
        "df = pd.read_csv('/content/finaledges.csv', skiprows = 0, header=0, names=[\"from\",\"to\"], engine='python')\n",
        "G = nx.from_pandas_edgelist(df, source='from', target='to')\n",
        "count = 1\n",
        "start = time.time()\n",
        "with open('/content/clique_out.csv', 'w') as outfile: \n",
        "    for i in find_cliques(G):\n",
        "        outfile.write(str(i)+'\\n')\n",
        "        if count % 100 == 0:\n",
        "            print(\"Written out \", count, \"cliques\")\n",
        "            print(\"Time elapsed \", time.time() - start)"
      ],
      "execution_count": 0,
      "outputs": []
    },
    {
      "cell_type": "code",
      "metadata": {
        "id": "Kz4oHlYmvHxP",
        "colab_type": "code",
        "colab": {}
      },
      "source": [
        "from collections import defaultdict\n",
        "import sys\n",
        "import pyspark\n",
        "from pyspark import SparkContext, SparkConf\n",
        "import json"
      ],
      "execution_count": 0,
      "outputs": []
    },
    {
      "cell_type": "code",
      "metadata": {
        "id": "7TOu_j8XvOI-",
        "colab_type": "code",
        "colab": {}
      },
      "source": [
        "conf = SparkConf().setAppName(\"clique_percolation\")\n",
        "conf.set(\"spark.driver.memory\", \"8g\")\n",
        "conf.set(\"spark.executor.memory\", \"8g\")\n",
        "conf.set(\"spark.network.timeout\",\"4000s\")\n",
        "conf.set(\"spark.executor.heartbeatInterval\",\"3600s\")\n",
        "conf.set(\"spark.storage.blockManagerSlaveTimeoutMs\",\"3600s\")\n",
        "conf.set(\"spark.cores.max\", \"4\")\n",
        "sc = SparkContext('local[4]', '',conf=conf)"
      ],
      "execution_count": 0,
      "outputs": []
    },
    {
      "cell_type": "code",
      "metadata": {
        "id": "LrsAa45jvRuL",
        "colab_type": "code",
        "colab": {}
      },
      "source": [
        "data = sc.textFile('/content/clique_out.csv').filter(lambda x: x!= '').map(lambda x: eval(x))\n",
        "data = data.map(lambda x: sorted(x)) # sort the list so that we can use it to compare\n",
        "data = data.zipWithIndex()"
      ],
      "execution_count": 0,
      "outputs": []
    },
    {
      "cell_type": "code",
      "metadata": {
        "id": "4MjK94RmvS8j",
        "colab_type": "code",
        "colab": {}
      },
      "source": [
        "# Get all combination of cliques\n",
        "carte_rdd = data.cartesian(data)\n",
        "\n",
        "# count the length of both cliques and their intersection\n",
        "lengths_rdd = carte_rdd.map(lambda x: (x[0][0], x[0][1], x[1][0], x[1][1],\n",
        "                        len(x[0][0]), len(x[1][0]), len(set(x[0][0]).intersection(set(x[1][0])))))\n",
        "# in each row, we have clique1, clique1_id, clique2, clique2_id, size(clique1), size(clique2), overlap of clique 1 and 2\n",
        "\n",
        "lengths_rdd.persist()\n",
        "# see the powerpoint by Eugene\n",
        "diag_rdd = lengths_rdd.filter(lambda x: x[1] == x[3])\n",
        "triangle_rdd = lengths_rdd.filter(lambda x: x[1] != x[3])\n",
        "\n",
        "k = 6"
      ],
      "execution_count": 0,
      "outputs": []
    },
    {
      "cell_type": "code",
      "metadata": {
        "id": "S_pI-Em8vZft",
        "colab_type": "code",
        "colab": {}
      },
      "source": [
        "triangle_rdd_filtered = triangle_rdd.filter(lambda x: x[6] >= k-1)\n",
        "\n",
        "if diag_rdd.isEmpty():\n",
        "    print(\"THIS IS AN EMPTY LIST\")\n",
        "        \n",
        "clique_list = diag_rdd.filter(lambda x: x[6] >= k).map(lambda x: x[1]).collect()"
      ],
      "execution_count": 0,
      "outputs": []
    },
    {
      "cell_type": "code",
      "metadata": {
        "id": "GZcIcOtjvc37",
        "colab_type": "code",
        "colab": {}
      },
      "source": [
        "community_dict = defaultdict(int)\n",
        "community_counter = 0"
      ],
      "execution_count": 0,
      "outputs": []
    },
    {
      "cell_type": "code",
      "metadata": {
        "id": "GRHnstgxvgtn",
        "colab_type": "code",
        "colab": {
          "base_uri": "https://localhost:8080/",
          "height": 1000
        },
        "outputId": "429ac96d-48df-45eb-a328-2631d511cf3d"
      },
      "source": [
        "for i in clique_list:\n",
        "    print('Processing', i)\n",
        "    # get the cliques who are in a community with clique i\n",
        "    clique_community = triangle_rdd_filtered.filter(lambda x: (x[1] == i ) | (x[3]  == i))\n",
        "    clique_community.collect()\n",
        "    if clique_community.collect() == []: # if the clique i is a community on its own, it will return an empty list\n",
        "        print(i, \"clique is on its own\")\n",
        "        community_dict[i] = community_counter\n",
        "        community_counter += 1\n",
        "        # do soemtjhign here to store the clqieu\n",
        "    else:\n",
        "        # get the indexes of the cliques that is a community with clique i\n",
        "        print(\"Getting cliques into community\")\n",
        "        clique_community_index = clique_community.map(lambda x: [x[1], x[3]]).collect()\n",
        "        intersection_of_clique = set(sum(clique_community_index, [])) & set(community_dict.keys())\n",
        "        if len(intersection_of_clique) == 0: # new community starts\n",
        "            for j in set(sum(clique_community_index, [])):\n",
        "                community_dict[j] = community_counter\n",
        "            community_counter += 1\n",
        "        else: # community exists\n",
        "            # pick corresponding key and use the community value\n",
        "            community_id = community_dict[list(intersection_of_clique)[0]]\n",
        "            for j in set(sum(clique_community_index, [])):# all the cliques get the same community id\n",
        "                community_dict[j] = community_id\n",
        "\n",
        "        # write out results\n",
        "        json.dump(community_dict,open('/content/sample_out.csv', 'w'))"
      ],
      "execution_count": 14,
      "outputs": [
        {
          "output_type": "stream",
          "text": [
            "Processing 4\n",
            "Getting cliques into community\n",
            "Processing 5\n",
            "Getting cliques into community\n",
            "Processing 6\n",
            "Getting cliques into community\n",
            "Processing 7\n",
            "Getting cliques into community\n",
            "Processing 15\n",
            "15 clique is on its own\n",
            "Processing 21\n",
            "Getting cliques into community\n",
            "Processing 22\n",
            "Getting cliques into community\n",
            "Processing 23\n",
            "Getting cliques into community\n",
            "Processing 25\n",
            "Getting cliques into community\n",
            "Processing 31\n",
            "Getting cliques into community\n",
            "Processing 32\n",
            "32 clique is on its own\n",
            "Processing 70\n",
            "Getting cliques into community\n",
            "Processing 71\n",
            "Getting cliques into community\n",
            "Processing 72\n",
            "Getting cliques into community\n",
            "Processing 73\n",
            "Getting cliques into community\n",
            "Processing 74\n",
            "Getting cliques into community\n",
            "Processing 75\n",
            "Getting cliques into community\n",
            "Processing 76\n",
            "Getting cliques into community\n",
            "Processing 77\n",
            "Getting cliques into community\n",
            "Processing 78\n",
            "Getting cliques into community\n",
            "Processing 79\n",
            "Getting cliques into community\n",
            "Processing 80\n",
            "Getting cliques into community\n",
            "Processing 81\n",
            "Getting cliques into community\n",
            "Processing 82\n",
            "Getting cliques into community\n",
            "Processing 83\n",
            "Getting cliques into community\n",
            "Processing 84\n",
            "Getting cliques into community\n",
            "Processing 85\n",
            "Getting cliques into community\n",
            "Processing 86\n",
            "Getting cliques into community\n",
            "Processing 87\n",
            "Getting cliques into community\n",
            "Processing 88\n",
            "Getting cliques into community\n",
            "Processing 89\n",
            "Getting cliques into community\n",
            "Processing 90\n",
            "Getting cliques into community\n",
            "Processing 91\n",
            "Getting cliques into community\n",
            "Processing 92\n",
            "Getting cliques into community\n",
            "Processing 93\n",
            "Getting cliques into community\n",
            "Processing 94\n",
            "Getting cliques into community\n",
            "Processing 95\n",
            "Getting cliques into community\n",
            "Processing 96\n",
            "Getting cliques into community\n",
            "Processing 97\n",
            "Getting cliques into community\n",
            "Processing 98\n",
            "Getting cliques into community\n",
            "Processing 99\n",
            "Getting cliques into community\n",
            "Processing 100\n",
            "Getting cliques into community\n",
            "Processing 101\n",
            "Getting cliques into community\n",
            "Processing 102\n",
            "Getting cliques into community\n",
            "Processing 103\n",
            "Getting cliques into community\n",
            "Processing 104\n",
            "Getting cliques into community\n",
            "Processing 105\n",
            "Getting cliques into community\n",
            "Processing 112\n",
            "Getting cliques into community\n",
            "Processing 113\n",
            "Getting cliques into community\n",
            "Processing 114\n",
            "Getting cliques into community\n",
            "Processing 115\n",
            "Getting cliques into community\n",
            "Processing 121\n",
            "Getting cliques into community\n",
            "Processing 125\n",
            "Getting cliques into community\n",
            "Processing 127\n",
            "Getting cliques into community\n",
            "Processing 131\n",
            "Getting cliques into community\n",
            "Processing 132\n",
            "Getting cliques into community\n",
            "Processing 134\n",
            "Getting cliques into community\n",
            "Processing 138\n",
            "Getting cliques into community\n",
            "Processing 139\n",
            "Getting cliques into community\n",
            "Processing 155\n",
            "Getting cliques into community\n",
            "Processing 158\n",
            "Getting cliques into community\n",
            "Processing 159\n",
            "Getting cliques into community\n",
            "Processing 160\n",
            "Getting cliques into community\n",
            "Processing 161\n",
            "Getting cliques into community\n",
            "Processing 162\n",
            "Getting cliques into community\n",
            "Processing 163\n",
            "Getting cliques into community\n",
            "Processing 164\n",
            "Getting cliques into community\n",
            "Processing 165\n",
            "Getting cliques into community\n",
            "Processing 166\n",
            "Getting cliques into community\n",
            "Processing 167\n",
            "Getting cliques into community\n",
            "Processing 168\n",
            "Getting cliques into community\n",
            "Processing 169\n",
            "Getting cliques into community\n",
            "Processing 170\n",
            "Getting cliques into community\n",
            "Processing 171\n",
            "Getting cliques into community\n",
            "Processing 172\n",
            "Getting cliques into community\n",
            "Processing 173\n",
            "Getting cliques into community\n",
            "Processing 174\n",
            "Getting cliques into community\n",
            "Processing 175\n",
            "Getting cliques into community\n",
            "Processing 176\n",
            "Getting cliques into community\n",
            "Processing 177\n",
            "Getting cliques into community\n",
            "Processing 178\n",
            "Getting cliques into community\n",
            "Processing 179\n",
            "Getting cliques into community\n",
            "Processing 180\n",
            "Getting cliques into community\n",
            "Processing 181\n",
            "Getting cliques into community\n",
            "Processing 182\n",
            "Getting cliques into community\n",
            "Processing 183\n",
            "Getting cliques into community\n",
            "Processing 184\n",
            "Getting cliques into community\n",
            "Processing 185\n",
            "Getting cliques into community\n",
            "Processing 186\n",
            "Getting cliques into community\n",
            "Processing 193\n",
            "Getting cliques into community\n"
          ],
          "name": "stdout"
        }
      ]
    },
    {
      "cell_type": "code",
      "metadata": {
        "id": "KsSsyO1JvvjH",
        "colab_type": "code",
        "colab": {
          "base_uri": "https://localhost:8080/",
          "height": 113
        },
        "outputId": "6097041f-5eaf-4d80-c301-c7e4d5ae6db5"
      },
      "source": [
        "sample_out = pd.read_csv('/content/sample_out.csv')\n",
        "sample_out"
      ],
      "execution_count": 15,
      "outputs": [
        {
          "output_type": "execute_result",
          "data": {
            "text/html": [
              "<div>\n",
              "<style scoped>\n",
              "    .dataframe tbody tr th:only-of-type {\n",
              "        vertical-align: middle;\n",
              "    }\n",
              "\n",
              "    .dataframe tbody tr th {\n",
              "        vertical-align: top;\n",
              "    }\n",
              "\n",
              "    .dataframe thead th {\n",
              "        text-align: right;\n",
              "    }\n",
              "</style>\n",
              "<table border=\"1\" class=\"dataframe\">\n",
              "  <thead>\n",
              "    <tr style=\"text-align: right;\">\n",
              "      <th></th>\n",
              "      <th>{\"4\": 0</th>\n",
              "      <th>\"5\": 0</th>\n",
              "      <th>\"6\": 0</th>\n",
              "      <th>\"7\": 0</th>\n",
              "      <th>\"21\": 0</th>\n",
              "      <th>\"22\": 0</th>\n",
              "      <th>\"23\": 0</th>\n",
              "      <th>\"15\": 1</th>\n",
              "      <th>\"25\": 2</th>\n",
              "      <th>\"31\": 2</th>\n",
              "      <th>\"32\": 3</th>\n",
              "      <th>\"102\": 5</th>\n",
              "      <th>\"70\": 5</th>\n",
              "      <th>\"71\": 5</th>\n",
              "      <th>\"139\": 5</th>\n",
              "      <th>\"80\": 5</th>\n",
              "      <th>\"158\": 5</th>\n",
              "      <th>\"98\": 5</th>\n",
              "      <th>\"79\": 5</th>\n",
              "      <th>\"159\": 5</th>\n",
              "      <th>\"72\": 5</th>\n",
              "      <th>\"73\": 5</th>\n",
              "      <th>\"82\": 5</th>\n",
              "      <th>\"77\": 5</th>\n",
              "      <th>\"160\": 5</th>\n",
              "      <th>\"97\": 5</th>\n",
              "      <th>\"132\": 5</th>\n",
              "      <th>\"101\": 5</th>\n",
              "      <th>\"74\": 5</th>\n",
              "      <th>\"138\": 5</th>\n",
              "      <th>\"168\": 5</th>\n",
              "      <th>\"78\": 5</th>\n",
              "      <th>\"81\": 5</th>\n",
              "      <th>\"183\": 5</th>\n",
              "      <th>\"161\": 5</th>\n",
              "      <th>\"95\": 5</th>\n",
              "      <th>\"100\": 5</th>\n",
              "      <th>\"162\": 5</th>\n",
              "      <th>\"75\": 5</th>\n",
              "      <th>\"76\": 5</th>\n",
              "      <th>...</th>\n",
              "      <th>\"182\": 5</th>\n",
              "      <th>\"83\": 5</th>\n",
              "      <th>\"84\": 5</th>\n",
              "      <th>\"85\": 5</th>\n",
              "      <th>\"86\": 5</th>\n",
              "      <th>\"87\": 5</th>\n",
              "      <th>\"88\": 5</th>\n",
              "      <th>\"89\": 5</th>\n",
              "      <th>\"90\": 5</th>\n",
              "      <th>\"91\": 5</th>\n",
              "      <th>\"92\": 5</th>\n",
              "      <th>\"165\": 5</th>\n",
              "      <th>\"170\": 5</th>\n",
              "      <th>\"94\": 5</th>\n",
              "      <th>\"103\": 5</th>\n",
              "      <th>\"180\": 5</th>\n",
              "      <th>\"93\": 5</th>\n",
              "      <th>\"104\": 5</th>\n",
              "      <th>\"134\": 5</th>\n",
              "      <th>\"172\": 5</th>\n",
              "      <th>\"181\": 5</th>\n",
              "      <th>\"96\": 5</th>\n",
              "      <th>\"105\": 5</th>\n",
              "      <th>\"171\": 5</th>\n",
              "      <th>\"121\": 5</th>\n",
              "      <th>\"173\": 5</th>\n",
              "      <th>\"164\": 5</th>\n",
              "      <th>\"175\": 5</th>\n",
              "      <th>\"131\": 5</th>\n",
              "      <th>\"112\": 5</th>\n",
              "      <th>\"127\": 5</th>\n",
              "      <th>\"184\": 5</th>\n",
              "      <th>\"185\": 5</th>\n",
              "      <th>\"186\": 5</th>\n",
              "      <th>\"114\": 5</th>\n",
              "      <th>\"113\": 5</th>\n",
              "      <th>\"115\": 5</th>\n",
              "      <th>\"155\": 7</th>\n",
              "      <th>\"125\": 7</th>\n",
              "      <th>\"193\": 5}</th>\n",
              "    </tr>\n",
              "  </thead>\n",
              "  <tbody>\n",
              "  </tbody>\n",
              "</table>\n",
              "<p>0 rows × 90 columns</p>\n",
              "</div>"
            ],
            "text/plain": [
              "Empty DataFrame\n",
              "Columns: [{\"4\": 0,  \"5\": 0,  \"6\": 0,  \"7\": 0,  \"21\": 0,  \"22\": 0,  \"23\": 0,  \"15\": 1,  \"25\": 2,  \"31\": 2,  \"32\": 3,  \"102\": 5,  \"70\": 5,  \"71\": 5,  \"139\": 5,  \"80\": 5,  \"158\": 5,  \"98\": 5,  \"79\": 5,  \"159\": 5,  \"72\": 5,  \"73\": 5,  \"82\": 5,  \"77\": 5,  \"160\": 5,  \"97\": 5,  \"132\": 5,  \"101\": 5,  \"74\": 5,  \"138\": 5,  \"168\": 5,  \"78\": 5,  \"81\": 5,  \"183\": 5,  \"161\": 5,  \"95\": 5,  \"100\": 5,  \"162\": 5,  \"75\": 5,  \"76\": 5,  \"99\": 5,  \"163\": 5,  \"166\": 5,  \"167\": 5,  \"169\": 5,  \"174\": 5,  \"176\": 5,  \"177\": 5,  \"178\": 5,  \"179\": 5,  \"182\": 5,  \"83\": 5,  \"84\": 5,  \"85\": 5,  \"86\": 5,  \"87\": 5,  \"88\": 5,  \"89\": 5,  \"90\": 5,  \"91\": 5,  \"92\": 5,  \"165\": 5,  \"170\": 5,  \"94\": 5,  \"103\": 5,  \"180\": 5,  \"93\": 5,  \"104\": 5,  \"134\": 5,  \"172\": 5,  \"181\": 5,  \"96\": 5,  \"105\": 5,  \"171\": 5,  \"121\": 5,  \"173\": 5,  \"164\": 5,  \"175\": 5,  \"131\": 5,  \"112\": 5,  \"127\": 5,  \"184\": 5,  \"185\": 5,  \"186\": 5,  \"114\": 5,  \"113\": 5,  \"115\": 5,  \"155\": 7,  \"125\": 7,  \"193\": 5}]\n",
              "Index: []\n",
              "\n",
              "[0 rows x 90 columns]"
            ]
          },
          "metadata": {
            "tags": []
          },
          "execution_count": 15
        }
      ]
    },
    {
      "cell_type": "code",
      "metadata": {
        "id": "CkB01jaTwdmz",
        "colab_type": "code",
        "colab": {}
      },
      "source": [
        "data_file= '/content/clique_out.csv'"
      ],
      "execution_count": 0,
      "outputs": []
    },
    {
      "cell_type": "code",
      "metadata": {
        "id": "v_MSlR73whSI",
        "colab_type": "code",
        "colab": {}
      },
      "source": [
        "largest_column_count = 0\n",
        "with open(data_file, 'r') as temp_f:\n",
        "    # Read the lines\n",
        "    lines = temp_f.readlines()\n",
        "\n",
        "    for l in lines:\n",
        "        # Count the column count for the current line\n",
        "        column_count = len(l.split(',')) + 1\n",
        "\n",
        "        # Set the new most column count\n",
        "        largest_column_count = column_count if largest_column_count < column_count else largest_column_count\n",
        "temp_f.close()\n",
        "column_names = [str(i) for i in range(0, largest_column_count)]"
      ],
      "execution_count": 0,
      "outputs": []
    },
    {
      "cell_type": "code",
      "metadata": {
        "id": "Pu3jnKGrwWJo",
        "colab_type": "code",
        "colab": {}
      },
      "source": [
        "clique_out = pd.read_csv(\"/content/clique_out.csv\",\n",
        "                        delimiter=',',names=column_names)"
      ],
      "execution_count": 0,
      "outputs": []
    },
    {
      "cell_type": "code",
      "metadata": {
        "id": "ILEgm86NwlZ4",
        "colab_type": "code",
        "colab": {}
      },
      "source": [
        "def is_nan(x):\n",
        "    return (x != x)"
      ],
      "execution_count": 0,
      "outputs": []
    },
    {
      "cell_type": "code",
      "metadata": {
        "id": "vc3IZWEIwqcY",
        "colab_type": "code",
        "colab": {}
      },
      "source": [
        "import re\n",
        "finallist=[]\n",
        "for i in range(0,clique_out.shape[0]):\n",
        "    temp=[]\n",
        "    for j in clique_out.loc[i]:\n",
        "        if is_nan(j)==False:\n",
        "            j= re.sub(r'[^\\w]', ' ', j)\n",
        "            temp.append(int(j))\n",
        "        else:\n",
        "            temp.append(float(j))\n",
        "    finallist.append(temp)"
      ],
      "execution_count": 0,
      "outputs": []
    },
    {
      "cell_type": "code",
      "metadata": {
        "id": "ufwku16MwtpO",
        "colab_type": "code",
        "colab": {}
      },
      "source": [
        "clique_out = pd.DataFrame(finallist)"
      ],
      "execution_count": 0,
      "outputs": []
    },
    {
      "cell_type": "code",
      "metadata": {
        "id": "3vsJBSDnwvQ9",
        "colab_type": "code",
        "colab": {
          "base_uri": "https://localhost:8080/",
          "height": 402
        },
        "outputId": "a2d061a6-ff96-4dfe-e8b5-63042ce7419f"
      },
      "source": [
        "clique_out"
      ],
      "execution_count": 23,
      "outputs": [
        {
          "output_type": "execute_result",
          "data": {
            "text/html": [
              "<div>\n",
              "<style scoped>\n",
              "    .dataframe tbody tr th:only-of-type {\n",
              "        vertical-align: middle;\n",
              "    }\n",
              "\n",
              "    .dataframe tbody tr th {\n",
              "        vertical-align: top;\n",
              "    }\n",
              "\n",
              "    .dataframe thead th {\n",
              "        text-align: right;\n",
              "    }\n",
              "</style>\n",
              "<table border=\"1\" class=\"dataframe\">\n",
              "  <thead>\n",
              "    <tr style=\"text-align: right;\">\n",
              "      <th></th>\n",
              "      <th>0</th>\n",
              "      <th>1</th>\n",
              "      <th>2</th>\n",
              "      <th>3</th>\n",
              "      <th>4</th>\n",
              "      <th>5</th>\n",
              "      <th>6</th>\n",
              "      <th>7</th>\n",
              "      <th>8</th>\n",
              "      <th>9</th>\n",
              "    </tr>\n",
              "  </thead>\n",
              "  <tbody>\n",
              "    <tr>\n",
              "      <th>0</th>\n",
              "      <td>0</td>\n",
              "      <td>114</td>\n",
              "      <td>51.0</td>\n",
              "      <td>116.0</td>\n",
              "      <td>NaN</td>\n",
              "      <td>NaN</td>\n",
              "      <td>NaN</td>\n",
              "      <td>NaN</td>\n",
              "      <td>NaN</td>\n",
              "      <td>NaN</td>\n",
              "    </tr>\n",
              "    <tr>\n",
              "      <th>1</th>\n",
              "      <td>0</td>\n",
              "      <td>114</td>\n",
              "      <td>51.0</td>\n",
              "      <td>53.0</td>\n",
              "      <td>NaN</td>\n",
              "      <td>NaN</td>\n",
              "      <td>NaN</td>\n",
              "      <td>NaN</td>\n",
              "      <td>NaN</td>\n",
              "      <td>NaN</td>\n",
              "    </tr>\n",
              "    <tr>\n",
              "      <th>2</th>\n",
              "      <td>0</td>\n",
              "      <td>114</td>\n",
              "      <td>60.0</td>\n",
              "      <td>NaN</td>\n",
              "      <td>NaN</td>\n",
              "      <td>NaN</td>\n",
              "      <td>NaN</td>\n",
              "      <td>NaN</td>\n",
              "      <td>NaN</td>\n",
              "      <td>NaN</td>\n",
              "    </tr>\n",
              "    <tr>\n",
              "      <th>3</th>\n",
              "      <td>1</td>\n",
              "      <td>2</td>\n",
              "      <td>62.0</td>\n",
              "      <td>NaN</td>\n",
              "      <td>NaN</td>\n",
              "      <td>NaN</td>\n",
              "      <td>NaN</td>\n",
              "      <td>NaN</td>\n",
              "      <td>NaN</td>\n",
              "      <td>NaN</td>\n",
              "    </tr>\n",
              "    <tr>\n",
              "      <th>4</th>\n",
              "      <td>3</td>\n",
              "      <td>100</td>\n",
              "      <td>45.0</td>\n",
              "      <td>81.0</td>\n",
              "      <td>41.0</td>\n",
              "      <td>78.0</td>\n",
              "      <td>NaN</td>\n",
              "      <td>NaN</td>\n",
              "      <td>NaN</td>\n",
              "      <td>NaN</td>\n",
              "    </tr>\n",
              "    <tr>\n",
              "      <th>...</th>\n",
              "      <td>...</td>\n",
              "      <td>...</td>\n",
              "      <td>...</td>\n",
              "      <td>...</td>\n",
              "      <td>...</td>\n",
              "      <td>...</td>\n",
              "      <td>...</td>\n",
              "      <td>...</td>\n",
              "      <td>...</td>\n",
              "      <td>...</td>\n",
              "    </tr>\n",
              "    <tr>\n",
              "      <th>196</th>\n",
              "      <td>105</td>\n",
              "      <td>4</td>\n",
              "      <td>NaN</td>\n",
              "      <td>NaN</td>\n",
              "      <td>NaN</td>\n",
              "      <td>NaN</td>\n",
              "      <td>NaN</td>\n",
              "      <td>NaN</td>\n",
              "      <td>NaN</td>\n",
              "      <td>NaN</td>\n",
              "    </tr>\n",
              "    <tr>\n",
              "      <th>197</th>\n",
              "      <td>108</td>\n",
              "      <td>16</td>\n",
              "      <td>121.0</td>\n",
              "      <td>NaN</td>\n",
              "      <td>NaN</td>\n",
              "      <td>NaN</td>\n",
              "      <td>NaN</td>\n",
              "      <td>NaN</td>\n",
              "      <td>NaN</td>\n",
              "      <td>NaN</td>\n",
              "    </tr>\n",
              "    <tr>\n",
              "      <th>198</th>\n",
              "      <td>115</td>\n",
              "      <td>114</td>\n",
              "      <td>38.0</td>\n",
              "      <td>NaN</td>\n",
              "      <td>NaN</td>\n",
              "      <td>NaN</td>\n",
              "      <td>NaN</td>\n",
              "      <td>NaN</td>\n",
              "      <td>NaN</td>\n",
              "      <td>NaN</td>\n",
              "    </tr>\n",
              "    <tr>\n",
              "      <th>199</th>\n",
              "      <td>121</td>\n",
              "      <td>110</td>\n",
              "      <td>16.0</td>\n",
              "      <td>26.0</td>\n",
              "      <td>92.0</td>\n",
              "      <td>NaN</td>\n",
              "      <td>NaN</td>\n",
              "      <td>NaN</td>\n",
              "      <td>NaN</td>\n",
              "      <td>NaN</td>\n",
              "    </tr>\n",
              "    <tr>\n",
              "      <th>200</th>\n",
              "      <td>122</td>\n",
              "      <td>123</td>\n",
              "      <td>NaN</td>\n",
              "      <td>NaN</td>\n",
              "      <td>NaN</td>\n",
              "      <td>NaN</td>\n",
              "      <td>NaN</td>\n",
              "      <td>NaN</td>\n",
              "      <td>NaN</td>\n",
              "      <td>NaN</td>\n",
              "    </tr>\n",
              "  </tbody>\n",
              "</table>\n",
              "<p>201 rows × 10 columns</p>\n",
              "</div>"
            ],
            "text/plain": [
              "       0    1      2      3     4     5   6   7   8   9\n",
              "0      0  114   51.0  116.0   NaN   NaN NaN NaN NaN NaN\n",
              "1      0  114   51.0   53.0   NaN   NaN NaN NaN NaN NaN\n",
              "2      0  114   60.0    NaN   NaN   NaN NaN NaN NaN NaN\n",
              "3      1    2   62.0    NaN   NaN   NaN NaN NaN NaN NaN\n",
              "4      3  100   45.0   81.0  41.0  78.0 NaN NaN NaN NaN\n",
              "..   ...  ...    ...    ...   ...   ...  ..  ..  ..  ..\n",
              "196  105    4    NaN    NaN   NaN   NaN NaN NaN NaN NaN\n",
              "197  108   16  121.0    NaN   NaN   NaN NaN NaN NaN NaN\n",
              "198  115  114   38.0    NaN   NaN   NaN NaN NaN NaN NaN\n",
              "199  121  110   16.0   26.0  92.0   NaN NaN NaN NaN NaN\n",
              "200  122  123    NaN    NaN   NaN   NaN NaN NaN NaN NaN\n",
              "\n",
              "[201 rows x 10 columns]"
            ]
          },
          "metadata": {
            "tags": []
          },
          "execution_count": 23
        }
      ]
    },
    {
      "cell_type": "code",
      "metadata": {
        "id": "ipPe4iI8wxQh",
        "colab_type": "code",
        "colab": {}
      },
      "source": [
        "output = {\"4\": 0, \"5\": 0,\"6\": 0,\"7\": 0,\"21\": 0,\"22\": 0,\"23\": 0,\"15\": 1,\"25\": 2,\"31\": 2,\"32\": 3,\"102\": 5,\"70\": 5,\"71\": 5,\"139\": 5,\"80\": 5,\"158\": 5,\"98\": 5,\"79\": 5,\"159\": 5,\"72\": 5,\"73\": 5,\"82\": 5,\"77\": 5,\"160\": 5,\"97\": 5,\"132\": 5,\"101\": 5,\"74\": 5,\"138\": 5,\"168\": 5,\"78\": 5,\"81\": 5,\"183\": 5,\"161\": 5,\"95\": 5,\"100\": 5,\"162\": 5,\"75\": 5,\"76\": 5,\"99\": 5,\"163\": 5,\"166\": 5,\"167\": 5,\"169\": 5,\"174\": 5,\"176\": 5,\"177\": 5,\"178\": 5,\"179\": 5,\"182\": 5,\"83\": 5,\"84\": 5,\"85\": 5,\"86\": 5,\"87\": 5,\"88\": 5,\"89\": 5,\"90\": 5,\"91\": 5,\"92\": 5,\"165\": 5,\"170\": 5,\"94\": 5,\"103\": 5,\"180\": 5,\"93\": 5,\"104\": 5,\"134\": 5,\"172\": 5,\"181\": 5,\"96\": 5,\"105\": 5,\"171\": 5,\"121\": 5,\"173\": 5,\"164\": 5,\"175\": 5,\"131\": 5,\"112\": 5,\"127\": 5,\"184\": 5,\"185\": 5,\"186\": 5,\"114\": 5,\"113\": 5,\"115\": 5,\"155\": 7,\"125\": 7,\"193\": 5}"
      ],
      "execution_count": 0,
      "outputs": []
    },
    {
      "cell_type": "code",
      "metadata": {
        "id": "tGo4x1ezw4G9",
        "colab_type": "code",
        "colab": {}
      },
      "source": [
        "community_ids = [i for i in set(output.values())]"
      ],
      "execution_count": 0,
      "outputs": []
    },
    {
      "cell_type": "code",
      "metadata": {
        "id": "sg1BrsLsw6mL",
        "colab_type": "code",
        "colab": {
          "base_uri": "https://localhost:8080/",
          "height": 34
        },
        "outputId": "11f4b41a-fa9c-4b8d-b4dd-a68f24eb7ffa"
      },
      "source": [
        "community_ids"
      ],
      "execution_count": 26,
      "outputs": [
        {
          "output_type": "execute_result",
          "data": {
            "text/plain": [
              "[0, 1, 2, 3, 5, 7]"
            ]
          },
          "metadata": {
            "tags": []
          },
          "execution_count": 26
        }
      ]
    },
    {
      "cell_type": "code",
      "metadata": {
        "id": "2vAeouVCw_t9",
        "colab_type": "code",
        "colab": {}
      },
      "source": [
        "community_dict={}\n",
        "names = {}\n",
        "names_0 = []\n",
        "names_1 = []\n",
        "names_2 = []\n",
        "names_3 = []\n",
        "names_5 = []\n",
        "names_7 = []"
      ],
      "execution_count": 0,
      "outputs": []
    },
    {
      "cell_type": "code",
      "metadata": {
        "id": "kFGxsdm3xJeM",
        "colab_type": "code",
        "colab": {
          "base_uri": "https://localhost:8080/",
          "height": 402
        },
        "outputId": "04836390-b6b5-4ea4-849c-bf73c7276805"
      },
      "source": [
        "nodes = pd.read_csv('/content/nodes.csv')\n",
        "nodes"
      ],
      "execution_count": 32,
      "outputs": [
        {
          "output_type": "execute_result",
          "data": {
            "text/html": [
              "<div>\n",
              "<style scoped>\n",
              "    .dataframe tbody tr th:only-of-type {\n",
              "        vertical-align: middle;\n",
              "    }\n",
              "\n",
              "    .dataframe tbody tr th {\n",
              "        vertical-align: top;\n",
              "    }\n",
              "\n",
              "    .dataframe thead th {\n",
              "        text-align: right;\n",
              "    }\n",
              "</style>\n",
              "<table border=\"1\" class=\"dataframe\">\n",
              "  <thead>\n",
              "    <tr style=\"text-align: right;\">\n",
              "      <th></th>\n",
              "      <th>Unnamed: 0</th>\n",
              "      <th>Id</th>\n",
              "      <th>Label</th>\n",
              "      <th>unique</th>\n",
              "    </tr>\n",
              "  </thead>\n",
              "  <tbody>\n",
              "    <tr>\n",
              "      <th>0</th>\n",
              "      <td>0</td>\n",
              "      <td>ADDAM_MARBRAND</td>\n",
              "      <td>Addam</td>\n",
              "      <td>0</td>\n",
              "    </tr>\n",
              "    <tr>\n",
              "      <th>1</th>\n",
              "      <td>1</td>\n",
              "      <td>AEGON</td>\n",
              "      <td>Aegon</td>\n",
              "      <td>1</td>\n",
              "    </tr>\n",
              "    <tr>\n",
              "      <th>2</th>\n",
              "      <td>2</td>\n",
              "      <td>AERYS</td>\n",
              "      <td>Aerys</td>\n",
              "      <td>2</td>\n",
              "    </tr>\n",
              "    <tr>\n",
              "      <th>3</th>\n",
              "      <td>3</td>\n",
              "      <td>ALLISER_THORNE</td>\n",
              "      <td>Allister</td>\n",
              "      <td>3</td>\n",
              "    </tr>\n",
              "    <tr>\n",
              "      <th>4</th>\n",
              "      <td>4</td>\n",
              "      <td>ARYA</td>\n",
              "      <td>Arya</td>\n",
              "      <td>4</td>\n",
              "    </tr>\n",
              "    <tr>\n",
              "      <th>...</th>\n",
              "      <td>...</td>\n",
              "      <td>...</td>\n",
              "      <td>...</td>\n",
              "      <td>...</td>\n",
              "    </tr>\n",
              "    <tr>\n",
              "      <th>121</th>\n",
              "      <td>121</td>\n",
              "      <td>WALDER</td>\n",
              "      <td>Walder</td>\n",
              "      <td>121</td>\n",
              "    </tr>\n",
              "    <tr>\n",
              "      <th>122</th>\n",
              "      <td>122</td>\n",
              "      <td>WAYMAR_ROYCE</td>\n",
              "      <td>Waymar</td>\n",
              "      <td>122</td>\n",
              "    </tr>\n",
              "    <tr>\n",
              "      <th>123</th>\n",
              "      <td>123</td>\n",
              "      <td>WILL</td>\n",
              "      <td>Will</td>\n",
              "      <td>123</td>\n",
              "    </tr>\n",
              "    <tr>\n",
              "      <th>124</th>\n",
              "      <td>124</td>\n",
              "      <td>WINE_MERCHANT</td>\n",
              "      <td>Wine Merchant</td>\n",
              "      <td>124</td>\n",
              "    </tr>\n",
              "    <tr>\n",
              "      <th>125</th>\n",
              "      <td>125</td>\n",
              "      <td>YOREN</td>\n",
              "      <td>Yoren</td>\n",
              "      <td>125</td>\n",
              "    </tr>\n",
              "  </tbody>\n",
              "</table>\n",
              "<p>126 rows × 4 columns</p>\n",
              "</div>"
            ],
            "text/plain": [
              "     Unnamed: 0              Id          Label  unique\n",
              "0             0  ADDAM_MARBRAND          Addam       0\n",
              "1             1           AEGON          Aegon       1\n",
              "2             2           AERYS          Aerys       2\n",
              "3             3  ALLISER_THORNE       Allister       3\n",
              "4             4            ARYA           Arya       4\n",
              "..          ...             ...            ...     ...\n",
              "121         121          WALDER         Walder     121\n",
              "122         122    WAYMAR_ROYCE         Waymar     122\n",
              "123         123            WILL           Will     123\n",
              "124         124   WINE_MERCHANT  Wine Merchant     124\n",
              "125         125           YOREN          Yoren     125\n",
              "\n",
              "[126 rows x 4 columns]"
            ]
          },
          "metadata": {
            "tags": []
          },
          "execution_count": 32
        }
      ]
    },
    {
      "cell_type": "code",
      "metadata": {
        "id": "8v-9GzqTxC5d",
        "colab_type": "code",
        "colab": {}
      },
      "source": [
        "for i,k in output.items():\n",
        "    #temp=[]\n",
        "    temp = [nodes.loc[int(j)].Id for j in clique_out.loc[int(i)] if is_nan(j)==False]\n",
        "    if int(k)==0:\n",
        "        names_0.append(temp)\n",
        "        #print(names_0)\n",
        "    elif int(k)==1:\n",
        "        names_1.append(temp)\n",
        "    elif int(k)==2:\n",
        "        names_2.append(temp)\n",
        "    elif int(k)==3:\n",
        "        names_3.append(temp)\n",
        "    elif int(k)==5:\n",
        "        names_5.append(temp)\n",
        "    elif int(k)==7:\n",
        "        names_7.append(temp)"
      ],
      "execution_count": 0,
      "outputs": []
    },
    {
      "cell_type": "code",
      "metadata": {
        "id": "Bo1CdZZwxn-x",
        "colab_type": "code",
        "colab": {}
      },
      "source": [
        "from pandas.core.common import flatten\n",
        "\n",
        "names_0 = list(set((flatten(names_0))))\n",
        "names_1 = list(set((flatten(names_1))))\n",
        "names_2 = list(set((flatten(names_2))))\n",
        "names_3 = list(set((flatten(names_3))))\n",
        "names_5 = list(set((flatten(names_5))))\n",
        "names_7 = list(set((flatten(names_7))))\n",
        "\n",
        "\n",
        "for k in community_ids:\n",
        "    if int(k)==0:\n",
        "        community_dict[k] = names_0 \n",
        "    elif int(k)==1:\n",
        "        community_dict[k] = names_1\n",
        "    elif int(k)==2:\n",
        "        community_dict[k] = names_2\n",
        "    elif int(k)==3:\n",
        "        community_dict[k] = names_3\n",
        "    elif int(k)==5:\n",
        "        community_dict[k] = names_5\n",
        "    elif int(k)==7:\n",
        "        community_dict[k] = names_7"
      ],
      "execution_count": 0,
      "outputs": []
    },
    {
      "cell_type": "code",
      "metadata": {
        "id": "DU8p7hzkxrPZ",
        "colab_type": "code",
        "colab": {
          "base_uri": "https://localhost:8080/",
          "height": 823
        },
        "outputId": "d3bba9aa-3883-4f93-b8cc-b4a44c39c196"
      },
      "source": [
        "community_dict"
      ],
      "execution_count": 35,
      "outputs": [
        {
          "output_type": "execute_result",
          "data": {
            "text/plain": [
              "{0: ['ALLISER_THORNE',\n",
              "  'GRENN',\n",
              "  'DAREON',\n",
              "  'PYP',\n",
              "  'SAM',\n",
              "  'OTHELL_YARWYCK',\n",
              "  'JEOR',\n",
              "  'JON',\n",
              "  'MAESTER_AEMON',\n",
              "  'RAST'],\n",
              " 1: ['ROBIN', 'TYRION', 'MORD', 'BRONN', 'CATELYN', 'LYSA'],\n",
              " 2: ['RAKHARO', 'DROGO', 'IRRI', 'JORAH', 'DOREAH', 'DAENERYS', 'VISERYS'],\n",
              " 3: ['MIRRI_MAZ_DUUR', 'RAKHARO', 'DROGO', 'JORAH', 'QOTHO', 'DAENERYS'],\n",
              " 5: ['LITTLEFINGER',\n",
              "  'ROBERT',\n",
              "  'PYCELLE',\n",
              "  'JON',\n",
              "  'JEOR',\n",
              "  'BARRISTAN',\n",
              "  'JON_ARRYN',\n",
              "  'ARYA',\n",
              "  'BENJEN',\n",
              "  'BRAN',\n",
              "  'JOFFREY',\n",
              "  'THEON',\n",
              "  'YOREN',\n",
              "  'MAESTER_LUWIN',\n",
              "  'ILYN_PAYNE',\n",
              "  'CERSEI',\n",
              "  'ROS',\n",
              "  'CATELYN',\n",
              "  'RENLY',\n",
              "  'TYRION',\n",
              "  'JAIME',\n",
              "  'VARYS',\n",
              "  'MERYN_TRANT',\n",
              "  'STANNIS',\n",
              "  'HOUND',\n",
              "  'GREATJON_UMBER',\n",
              "  'TYWIN',\n",
              "  'RODRIK',\n",
              "  'SANSA',\n",
              "  'NED',\n",
              "  'SEPTA_MORDANE',\n",
              "  'JANOS',\n",
              "  'BAELOR',\n",
              "  'ROBB'],\n",
              " 7: ['LITTLEFINGER', 'HOUND', 'ROBERT', 'SANSA', 'NED', 'MOUNTAIN', 'LORAS']}"
            ]
          },
          "metadata": {
            "tags": []
          },
          "execution_count": 35
        }
      ]
    }
  ]
}